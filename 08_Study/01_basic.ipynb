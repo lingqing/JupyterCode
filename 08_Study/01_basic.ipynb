{
 "cells": [
  {
   "cell_type": "markdown",
   "metadata": {},
   "source": [
    "### 1. torch 中Tensor的常用操作\n",
    "**1.1 stack() vs cat()**  \n",
    "官方解释：沿着一个新维度对输入张量序列进行连接。 序列中所有的张量都应该为相同形状。\n",
    "浅显说法：把多个2维的张量凑成一个3维的张量；多个3维的凑成一个4维的张量…以此类推，也就是在增加新的维度进行堆叠。\n",
    "```\n",
    "outputs = torch.stack(inputs, dim=0) → Tensor\n",
    "```\n",
    "注意：\n",
    "函数中的输入inputs只允许是序列；且序列内部的张量元素，必须shape相等  \n",
    "----举例：[tensor_1, tensor_2,..]或者(tensor_1, tensor_2,..)，且必须tensor_1.shape == tensor_2.shape\n",
    "\n",
    "dim是选择生成的维度，必须满足0<=dim<len(outputs)；len(outputs)是输出后的tensor的维度大小\n",
    "\n",
    "**举例**"
   ]
  },
  {
   "cell_type": "code",
   "execution_count": 6,
   "metadata": {},
   "outputs": [
    {
     "name": "stdout",
     "output_type": "stream",
     "text": [
      "torch.Size([2, 3, 3])\n",
      "torch.Size([3, 2, 3])\n",
      "torch.Size([3, 3, 2])\n",
      "tensor([[[ 1, 10],\n",
      "         [ 2, 20],\n",
      "         [ 3, 30]],\n",
      "\n",
      "        [[ 4, 40],\n",
      "         [ 5, 50],\n",
      "         [ 6, 60]],\n",
      "\n",
      "        [[ 7, 70],\n",
      "         [ 8, 80],\n",
      "         [ 9, 90]]])\n",
      "torch.Size([6, 3])\n",
      "tensor([[ 1,  2,  3, 10, 20, 30],\n",
      "        [ 4,  5,  6, 40, 50, 60],\n",
      "        [ 7,  8,  9, 70, 80, 90]])\n"
     ]
    }
   ],
   "source": [
    "import torch\n",
    "# 假设是时间步T1\n",
    "T1 = torch.tensor([[1, 2, 3],\n",
    "                [4, 5, 6],\n",
    "                [7, 8, 9]])\n",
    "# 假设是时间步T2\n",
    "T2 = torch.tensor([[10, 20, 30],\n",
    "                [40, 50, 60],\n",
    "                [70, 80, 90]])\n",
    "\n",
    "print(torch.stack((T1,T2),dim=0).shape)\n",
    "print(torch.stack((T1,T2),dim=1).shape)\n",
    "print(torch.stack((T1,T2),dim=2).shape)\n",
    "\n",
    "print(torch.stack((T1,T2),dim=2))\n",
    "\n",
    "print(torch.cat((T1,T2),dim=0).shape)\n",
    "print(torch.cat((T1,T2),dim=1))\n",
    "# print(torch.cat((T1,T2),dim=2).shape)\n",
    "# print(torch.stack((T1,T2),dim=3).shape)"
   ]
  }
 ],
 "metadata": {
  "kernelspec": {
   "display_name": "Python 3 (ipykernel)",
   "language": "python",
   "name": "python3"
  },
  "language_info": {
   "codemirror_mode": {
    "name": "ipython",
    "version": 3
   },
   "file_extension": ".py",
   "mimetype": "text/x-python",
   "name": "python",
   "nbconvert_exporter": "python",
   "pygments_lexer": "ipython3",
   "version": "3.7.12"
  },
  "orig_nbformat": 4
 },
 "nbformat": 4,
 "nbformat_minor": 2
}

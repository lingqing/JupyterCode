{
 "cells": [
  {
   "cell_type": "code",
   "execution_count": 28,
   "id": "6da6824a",
   "metadata": {},
   "outputs": [],
   "source": [
    "import torch\n",
    "import torch.nn as nn\n",
    "import torch.optim as optim\n",
    "import torch.nn.functional as F\n",
    "from torchvision import datasets, transforms\n",
    "import numpy as np\n",
    "%matplotlib inline"
   ]
  },
  {
   "cell_type": "code",
   "execution_count": 44,
   "id": "be8849f0",
   "metadata": {},
   "outputs": [],
   "source": [
    "input_size = 28\n",
    "outpu_size = 10\n",
    "epochs = 3\n",
    "batch_size = 64\n",
    "\n",
    "\n",
    "# train_ds = datasets.MNIST('./data', train=True, transform=transforms.ToTensor())\n",
    "# test_ds = datasets.MNIST('./data', train=False, transform=transforms.ToTensor())\n",
    "\n",
    "import gzip, pickle\n",
    "with gzip.open(('data/mnist.pkl.gz'), 'rb') as f:\n",
    "    ((x_train, y_train), (x_valid, y_valid), _) = pickle.load(f, encoding='latin-1')\n",
    "\n",
    "x_train, y_train, x_valid, y_valid = map(\n",
    "    torch.tensor, (x_train, y_train, x_valid, y_valid)\n",
    ")\n",
    "from torch.utils.data import TensorDataset\n",
    "\n",
    "train_ds = TensorDataset(x_train, y_train)\n",
    "test_ds = TensorDataset(x_valid, y_valid)\n",
    "\n",
    "train_dl = torch.utils.data.DataLoader(train_ds, batch_size=batch_size, shuffle=True)\n",
    "test_dl = torch.utils.data.DataLoader(test_ds, batch_size=batch_size*2, shuffle=True)"
   ]
  },
  {
   "cell_type": "code",
   "execution_count": 48,
   "id": "8a81bcf4",
   "metadata": {},
   "outputs": [],
   "source": [
    "class CNN(nn.Module):\n",
    "    def __init__(self):\n",
    "        super().__init__()\n",
    "        self.conv1 = nn.Sequential(\n",
    "            nn.Conv2d(\n",
    "                in_channels=1, out_channels=16,kernel_size=5, stride=1, padding=2,\n",
    "            ),\n",
    "            nn.ReLU(),\n",
    "            nn.MaxPool2d(kernel_size=2),\n",
    "        )\n",
    "        self.conv2 = nn.Sequential(\n",
    "            nn.Conv2d(16, 32, 5, 1, 2),\n",
    "            nn.ReLU(),\n",
    "            nn.MaxPool2d(2)\n",
    "        )\n",
    "        self.out = nn.Linear(7*7*32, 10)\n",
    "        \n",
    "    def forward(self, x):\n",
    "#         x = x.reshape(1, 28, 28)\n",
    "        x = self.conv1(x)\n",
    "        x = self.conv2(x)\n",
    "        x = x.view(x.shape[0], -1)\n",
    "        x = self.out(x)\n",
    "        return x\n",
    "    "
   ]
  },
  {
   "cell_type": "code",
   "execution_count": 14,
   "id": "57194158",
   "metadata": {},
   "outputs": [],
   "source": [
    "def accuracy(prediction, labels):\n",
    "    pred = torch.max(prediction.data, 1)[1]\n",
    "    rights = pred.eq(labels.data.view_as(pred)).sum()\n",
    "    return rights, len(labels)"
   ]
  },
  {
   "cell_type": "code",
   "execution_count": 51,
   "id": "4da09f7e",
   "metadata": {},
   "outputs": [
    {
     "name": "stdout",
     "output_type": "stream",
     "text": [
      "epoch=0, [0/50000] (0%) \t loss = 2.296804 \t trail_r = 9.38, \t test_r=9.95\n",
      "epoch=0, [6400/50000] (13%) \t loss = 0.397458 \t trail_r = 76.02, \t test_r=92.84\n",
      "epoch=0, [12800/50000] (26%) \t loss = 0.183755 \t trail_r = 84.23, \t test_r=95.85\n",
      "epoch=0, [19200/50000] (38%) \t loss = 0.097302 \t trail_r = 87.82, \t test_r=96.50\n",
      "epoch=0, [25600/50000] (51%) \t loss = 0.124194 \t trail_r = 89.86, \t test_r=96.92\n",
      "epoch=0, [32000/50000] (64%) \t loss = 0.130664 \t trail_r = 91.22, \t test_r=97.57\n",
      "epoch=0, [38400/50000] (77%) \t loss = 0.105614 \t trail_r = 92.21, \t test_r=97.60\n",
      "epoch=0, [44800/50000] (90%) \t loss = 0.014055 \t trail_r = 92.92, \t test_r=97.61\n",
      "epoch=1, [0/50000] (0%) \t loss = 0.024264 \t trail_r = 100.00, \t test_r=97.36\n",
      "epoch=1, [6400/50000] (13%) \t loss = 0.131264 \t trail_r = 97.42, \t test_r=98.13\n",
      "epoch=1, [12800/50000] (26%) \t loss = 0.033087 \t trail_r = 97.50, \t test_r=98.26\n",
      "epoch=1, [19200/50000] (38%) \t loss = 0.084030 \t trail_r = 97.71, \t test_r=98.38\n",
      "epoch=1, [25600/50000] (51%) \t loss = 0.109218 \t trail_r = 97.74, \t test_r=98.04\n",
      "epoch=1, [32000/50000] (64%) \t loss = 0.021718 \t trail_r = 97.77, \t test_r=98.10\n",
      "epoch=1, [38400/50000] (77%) \t loss = 0.074914 \t trail_r = 97.78, \t test_r=98.25\n",
      "epoch=1, [44800/50000] (90%) \t loss = 0.175806 \t trail_r = 97.83, \t test_r=98.42\n",
      "epoch=2, [0/50000] (0%) \t loss = 0.008023 \t trail_r = 100.00, \t test_r=98.42\n",
      "epoch=2, [6400/50000] (13%) \t loss = 0.045822 \t trail_r = 98.76, \t test_r=98.32\n",
      "epoch=2, [12800/50000] (26%) \t loss = 0.022384 \t trail_r = 98.55, \t test_r=98.60\n",
      "epoch=2, [19200/50000] (38%) \t loss = 0.044996 \t trail_r = 98.58, \t test_r=98.59\n",
      "epoch=2, [25600/50000] (51%) \t loss = 0.033172 \t trail_r = 98.61, \t test_r=98.58\n",
      "epoch=2, [32000/50000] (64%) \t loss = 0.002386 \t trail_r = 98.67, \t test_r=98.57\n",
      "epoch=2, [38400/50000] (77%) \t loss = 0.084217 \t trail_r = 98.65, \t test_r=98.48\n",
      "epoch=2, [44800/50000] (90%) \t loss = 0.007934 \t trail_r = 98.66, \t test_r=98.53\n"
     ]
    }
   ],
   "source": [
    "net = CNN()\n",
    "criterion = nn.CrossEntropyLoss()\n",
    "optimizer = optim.Adam(net.parameters(), lr = 0.001)\n",
    "\n",
    "for epoch in range(epochs):\n",
    "    train_rights = []\n",
    "    for bi, (data, target) in enumerate(train_dl):\n",
    "        net.train()\n",
    "        data = data.reshape(-1, 1, 28, 28)\n",
    "        output = net(data)\n",
    "        loss = criterion(output, target)\n",
    "        \n",
    "        optimizer.zero_grad()\n",
    "        loss.backward()\n",
    "        optimizer.step()\n",
    "        \n",
    "        right = accuracy(output, target)\n",
    "        \n",
    "        train_rights.append(right)\n",
    "        \n",
    "        if bi % 100 == 0:\n",
    "            net.eval()\n",
    "            val_rights = []\n",
    "            \n",
    "            for (data, target) in test_dl:\n",
    "                data = data.reshape(-1, 1, 28, 28)\n",
    "                output = net(data)\n",
    "                right = accuracy(output, target)\n",
    "                val_rights.append(right)\n",
    "                \n",
    "            train_r = (sum([tup[0] for tup in train_rights]), sum(tup[1] for tup in train_rights))\n",
    "            test_r = (sum([tup[0] for tup in val_rights]), sum(tup[1] for tup in val_rights))\n",
    "            \n",
    "            print('epoch={}, [{}/{}] ({:.0f}%) \\t loss = {:.6f} \\t trail_r = {:.2f}, \\t test_r={:.2f}'.format(\n",
    "                 epoch, bi*batch_size, len(train_dl.dataset),\n",
    "                  100. *bi*batch_size/len(train_dl.dataset),\n",
    "                  loss.data,\n",
    "                  100. * train_r[0].numpy() /train_r[1],\n",
    "                  100. * test_r[0].numpy() / test_r[1]\n",
    "                 ))\n",
    "                "
   ]
  },
  {
   "cell_type": "code",
   "execution_count": 52,
   "id": "5eaab083",
   "metadata": {},
   "outputs": [],
   "source": [
    "# test_ds[0][0].shape\n",
    "\n",
    "torch.cuda.empty_cache()"
   ]
  }
 ],
 "metadata": {
  "kernelspec": {
   "display_name": "Python 3 (ipykernel)",
   "language": "python",
   "name": "python3"
  },
  "language_info": {
   "codemirror_mode": {
    "name": "ipython",
    "version": 3
   },
   "file_extension": ".py",
   "mimetype": "text/x-python",
   "name": "python",
   "nbconvert_exporter": "python",
   "pygments_lexer": "ipython3",
   "version": "3.9.12"
  }
 },
 "nbformat": 4,
 "nbformat_minor": 5
}
